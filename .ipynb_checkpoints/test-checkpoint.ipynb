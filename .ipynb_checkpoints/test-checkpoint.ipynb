{
 "cells": [
  {
   "cell_type": "code",
   "execution_count": 42,
   "id": "20ea6e3d",
   "metadata": {},
   "outputs": [
    {
     "ename": "OSError",
     "evalue": "Global diagrams context not set up",
     "output_type": "error",
     "traceback": [
      "\u001b[1;31m---------------------------------------------------------------------------\u001b[0m",
      "\u001b[1;31mOSError\u001b[0m                                   Traceback (most recent call last)",
      "Input \u001b[1;32mIn [42]\u001b[0m, in \u001b[0;36m<cell line: 9>\u001b[1;34m()\u001b[0m\n\u001b[0;32m      6\u001b[0m     host \u001b[38;5;241m=\u001b[39m Custom(\u001b[38;5;124m\"\u001b[39m\u001b[38;5;124mlocalhost:2357\u001b[39m\u001b[38;5;124m\"\u001b[39m, \u001b[38;5;124m\"\u001b[39m\u001b[38;5;124m./my_resources/cc_heart.black.png\u001b[39m\u001b[38;5;124m\"\u001b[39m)\n\u001b[0;32m      7\u001b[0m     web \u001b[38;5;241m=\u001b[39m Custom(\u001b[38;5;124m\"\u001b[39m\u001b[38;5;124mlocalhost:8080\u001b[39m\u001b[38;5;124m\"\u001b[39m, \u001b[38;5;124m\"\u001b[39m\u001b[38;5;124m./my_resources/cc_heart.black.png\u001b[39m\u001b[38;5;124m\"\u001b[39m)\n\u001b[1;32m----> 9\u001b[0m \u001b[38;5;28;01mwith\u001b[39;00m \u001b[43mCluster\u001b[49m\u001b[43m(\u001b[49m\u001b[38;5;124;43m\"\u001b[39;49m\u001b[38;5;124;43mContainers\u001b[39;49m\u001b[38;5;124;43m\"\u001b[39;49m\u001b[43m)\u001b[49m:\n\u001b[0;32m     10\u001b[0m         containers \u001b[38;5;241m=\u001b[39m [Custom(\u001b[38;5;124m\"\u001b[39m\u001b[38;5;124mNode JS\u001b[39m\u001b[38;5;124m\"\u001b[39m, \u001b[38;5;124m\"\u001b[39m\u001b[38;5;124m./my_resources/cc_nc-jp.png\u001b[39m\u001b[38;5;124m\"\u001b[39m) \u001b[38;5;241m-\u001b[39m Custom(\u001b[38;5;124m\"\u001b[39m\u001b[38;5;124mPostgresql\u001b[39m\u001b[38;5;124m\"\u001b[39m, \u001b[38;5;124m\"\u001b[39m\u001b[38;5;124m./my_resources/cc_nc-eu.png\u001b[39m\u001b[38;5;124m\"\u001b[39m)]\n\u001b[0;32m     12\u001b[0m host \u001b[38;5;241m>>\u001b[39m containers \u001b[38;5;241m>>\u001b[39m web\n",
      "File \u001b[1;32m~\\anaconda3\\lib\\site-packages\\diagrams\\__init__.py:239\u001b[0m, in \u001b[0;36m__init__\u001b[1;34m(self, label, direction, graph_attr)\u001b[0m\n\u001b[0;32m    236\u001b[0m     raise ValueError(f'\"{direction}\" is not a valid direction')\n\u001b[0;32m    237\u001b[0m self.dot.graph_attr[\"rankdir\"] = direction\n\u001b[1;32m--> 239\u001b[0m # Node must be belong to a diagrams.\n\u001b[0;32m    240\u001b[0m self._diagram = getdiagram()\n\u001b[0;32m    241\u001b[0m if self._diagram is None:\n",
      "\u001b[1;31mOSError\u001b[0m: Global diagrams context not set up"
     ]
    }
   ],
   "source": [
    "from diagrams import Diagram, Cluster\n",
    "from diagrams.custom import Custom\n",
    "\n",
    "\n",
    "with Diagram(\"Docker Diagram\", show=False):\n",
    "    host = Custom(\"localhost:2357\", \"C:\\Users\\usuh\\Desktop\\Diagrams_Project\\computer-icon.png\")\n",
    "    web = Custom(\"localhost:8080\", \"C:\\Users\\usuh\\Desktop\\Diagrams_Project\\\")\n",
    "\n",
    "with Cluster(\"Containers\"):\n",
    "        containers = [Custom(\"Node JS\", \"./my_resources/cc_nc-jp.png\") - Custom(\"Postgresql\", \"./my_resources/cc_nc-eu.png\")]\n",
    "\n",
    "host >> containers >> web"
   ]
  },
  {
   "cell_type": "code",
   "execution_count": null,
   "id": "6b7a0a23",
   "metadata": {},
   "outputs": [],
   "source": []
  }
 ],
 "metadata": {
  "kernelspec": {
   "display_name": "Python 3 (ipykernel)",
   "language": "python",
   "name": "python3"
  },
  "language_info": {
   "codemirror_mode": {
    "name": "ipython",
    "version": 3
   },
   "file_extension": ".py",
   "mimetype": "text/x-python",
   "name": "python",
   "nbconvert_exporter": "python",
   "pygments_lexer": "ipython3",
   "version": "3.9.12"
  }
 },
 "nbformat": 4,
 "nbformat_minor": 5
}
